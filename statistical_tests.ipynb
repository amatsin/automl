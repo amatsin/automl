{
 "cells": [
  {
   "cell_type": "code",
   "execution_count": 1,
   "id": "c3750b9e",
   "metadata": {},
   "outputs": [
    {
     "name": "stdout",
     "output_type": "stream",
     "text": [
      "/home/romet/projects/ut/automl/src\n"
     ]
    }
   ],
   "source": [
    "%cd src"
   ]
  },
  {
   "cell_type": "code",
   "execution_count": 2,
   "id": "7fb152ac",
   "metadata": {},
   "outputs": [],
   "source": [
    "import pandas as pd\n",
    "from dataloader import load_data\n",
    "\n",
    "from mcnemar_test import create_contingency_table, calculate_mcnemar_test\n",
    "\n",
    "%load_ext autoreload\n",
    "%autoreload 2"
   ]
  },
  {
   "cell_type": "code",
   "execution_count": 3,
   "id": "3d5b7828",
   "metadata": {},
   "outputs": [
    {
     "name": "stdout",
     "output_type": "stream",
     "text": [
      "Reading training data...\n",
      "Original train shape:  (200000, 202)\n",
      "Frequency encoding...\n",
      "shape returned by frequency_encoding function (200000, 200)\n",
      "Scaling data...\n",
      "target data type is int64\n",
      "shape returned by load_data function (200000, 402)\n"
     ]
    }
   ],
   "source": [
    "train = load_data()\n",
    "true_pred = train.target.values"
   ]
  },
  {
   "cell_type": "code",
   "execution_count": null,
   "id": "5096098d",
   "metadata": {},
   "outputs": [],
   "source": []
  },
  {
   "cell_type": "markdown",
   "id": "11304d23",
   "metadata": {},
   "source": [
    "## LightGBM Optimized McNemar test"
   ]
  },
  {
   "cell_type": "code",
   "execution_count": 4,
   "id": "c570a53f",
   "metadata": {},
   "outputs": [],
   "source": [
    "baseline_lgbm_df = pd.read_csv(\"../kfolds/LightGBM__folds5__0.8949656737461088.csv\")\n",
    "optimized_lgbm_df = pd.read_csv(\"../kfolds/LightGBMOptimized__folds5__0.9017873558406069.csv\")\n",
    "\n",
    "baseline_lgbm_pred = baseline_lgbm_df['target'] >= 0.5\n",
    "optimized_lgbm_pred = optimized_lgbm_df['target'] >= 0.5"
   ]
  },
  {
   "cell_type": "code",
   "execution_count": 5,
   "id": "e1f1b09c",
   "metadata": {},
   "outputs": [
    {
     "data": {
      "text/html": [
       "<div>\n",
       "<style scoped>\n",
       "    .dataframe tbody tr th:only-of-type {\n",
       "        vertical-align: middle;\n",
       "    }\n",
       "\n",
       "    .dataframe tbody tr th {\n",
       "        vertical-align: top;\n",
       "    }\n",
       "\n",
       "    .dataframe thead th {\n",
       "        text-align: right;\n",
       "    }\n",
       "</style>\n",
       "<table border=\"1\" class=\"dataframe\">\n",
       "  <thead>\n",
       "    <tr style=\"text-align: right;\">\n",
       "      <th></th>\n",
       "      <th>nr_correct_baseline</th>\n",
       "      <th>nr_incorrect_baseline</th>\n",
       "    </tr>\n",
       "  </thead>\n",
       "  <tbody>\n",
       "    <tr>\n",
       "      <th>nr_correct_optimized</th>\n",
       "      <td>168204</td>\n",
       "      <td>3845</td>\n",
       "    </tr>\n",
       "    <tr>\n",
       "      <th>nr_incorrect_optimized</th>\n",
       "      <td>11190</td>\n",
       "      <td>16761</td>\n",
       "    </tr>\n",
       "  </tbody>\n",
       "</table>\n",
       "</div>"
      ],
      "text/plain": [
       "                       nr_correct_baseline nr_incorrect_baseline\n",
       "nr_correct_optimized                168204                  3845\n",
       "nr_incorrect_optimized               11190                 16761"
      ]
     },
     "execution_count": 5,
     "metadata": {},
     "output_type": "execute_result"
    }
   ],
   "source": [
    "cont_lgbm_df = create_contingency_table(true_pred, baseline_lgbm_pred, optimized_lgbm_pred)\n",
    "cont_lgbm_df"
   ]
  },
  {
   "cell_type": "code",
   "execution_count": 6,
   "id": "81da33a9",
   "metadata": {},
   "outputs": [
    {
     "name": "stdout",
     "output_type": "stream",
     "text": [
      "statistic=3845.00000, p-value=0.00000e+00\n",
      "Different proportions of errors (reject H0)\n"
     ]
    }
   ],
   "source": [
    "calculate_mcnemar_test(cont_lgbm_df)"
   ]
  },
  {
   "cell_type": "markdown",
   "id": "ae0b5d76",
   "metadata": {},
   "source": [
    "## LightGBM Autofeat Mcnemar Test\n"
   ]
  },
  {
   "cell_type": "code",
   "execution_count": 7,
   "id": "f40c88de",
   "metadata": {},
   "outputs": [],
   "source": [
    "autofeat_lgbm_df = pd.read_csv(\"../kfolds/LightGBMAutoFeat__folds5__0.9014404790895103.csv\")\n",
    "autofeat_lgbm_pred = autofeat_lgbm_df['target'] >= 0.5"
   ]
  },
  {
   "cell_type": "code",
   "execution_count": 8,
   "id": "19235d4f",
   "metadata": {},
   "outputs": [
    {
     "data": {
      "text/html": [
       "<div>\n",
       "<style scoped>\n",
       "    .dataframe tbody tr th:only-of-type {\n",
       "        vertical-align: middle;\n",
       "    }\n",
       "\n",
       "    .dataframe tbody tr th {\n",
       "        vertical-align: top;\n",
       "    }\n",
       "\n",
       "    .dataframe thead th {\n",
       "        text-align: right;\n",
       "    }\n",
       "</style>\n",
       "<table border=\"1\" class=\"dataframe\">\n",
       "  <thead>\n",
       "    <tr style=\"text-align: right;\">\n",
       "      <th></th>\n",
       "      <th>nr_correct_baseline</th>\n",
       "      <th>nr_incorrect_baseline</th>\n",
       "    </tr>\n",
       "  </thead>\n",
       "  <tbody>\n",
       "    <tr>\n",
       "      <th>nr_correct_optimized</th>\n",
       "      <td>166143</td>\n",
       "      <td>5906</td>\n",
       "    </tr>\n",
       "    <tr>\n",
       "      <th>nr_incorrect_optimized</th>\n",
       "      <td>7038</td>\n",
       "      <td>20913</td>\n",
       "    </tr>\n",
       "  </tbody>\n",
       "</table>\n",
       "</div>"
      ],
      "text/plain": [
       "                       nr_correct_baseline nr_incorrect_baseline\n",
       "nr_correct_optimized                166143                  5906\n",
       "nr_incorrect_optimized                7038                 20913"
      ]
     },
     "execution_count": 8,
     "metadata": {},
     "output_type": "execute_result"
    }
   ],
   "source": [
    "cont_lgbm_df = create_contingency_table(true_pred, baseline_lgbm_pred, autofeat_lgbm_pred)\n",
    "cont_lgbm_df"
   ]
  },
  {
   "cell_type": "code",
   "execution_count": 9,
   "id": "397897b5",
   "metadata": {},
   "outputs": [
    {
     "name": "stdout",
     "output_type": "stream",
     "text": [
      "statistic=5906.00000, p-value=2.59278e-23\n",
      "Different proportions of errors (reject H0)\n"
     ]
    }
   ],
   "source": [
    "calculate_mcnemar_test(cont_lgbm_df)"
   ]
  },
  {
   "cell_type": "markdown",
   "id": "5ba59f8d",
   "metadata": {},
   "source": [
    "## XGBoost Optimized McNemar test"
   ]
  },
  {
   "cell_type": "code",
   "execution_count": 10,
   "id": "6dc36841",
   "metadata": {},
   "outputs": [],
   "source": [
    "baseline_xgb_df = pd.read_csv(\"../kfolds/XGBoost__folds5__0.8644135937992727.csv\")\n",
    "optimized_xgb_df = pd.read_csv(\"../kfolds/XGBoostOptimized__folds5__0.9029208825593404.csv\")"
   ]
  },
  {
   "cell_type": "code",
   "execution_count": 11,
   "id": "366dfe53",
   "metadata": {},
   "outputs": [],
   "source": [
    "baseline_xgb_pred = baseline_xgb_df['target'] >= 0.5\n",
    "optimized_xgb_pred = optimized_xgb_df['target'] >= 0.5"
   ]
  },
  {
   "cell_type": "code",
   "execution_count": 12,
   "id": "b48592c9",
   "metadata": {},
   "outputs": [
    {
     "data": {
      "text/html": [
       "<div>\n",
       "<style scoped>\n",
       "    .dataframe tbody tr th:only-of-type {\n",
       "        vertical-align: middle;\n",
       "    }\n",
       "\n",
       "    .dataframe tbody tr th {\n",
       "        vertical-align: top;\n",
       "    }\n",
       "\n",
       "    .dataframe thead th {\n",
       "        text-align: right;\n",
       "    }\n",
       "</style>\n",
       "<table border=\"1\" class=\"dataframe\">\n",
       "  <thead>\n",
       "    <tr style=\"text-align: right;\">\n",
       "      <th></th>\n",
       "      <th>nr_correct_baseline</th>\n",
       "      <th>nr_incorrect_baseline</th>\n",
       "    </tr>\n",
       "  </thead>\n",
       "  <tbody>\n",
       "    <tr>\n",
       "      <th>nr_correct_optimized</th>\n",
       "      <td>162078</td>\n",
       "      <td>13895</td>\n",
       "    </tr>\n",
       "    <tr>\n",
       "      <th>nr_incorrect_optimized</th>\n",
       "      <td>8494</td>\n",
       "      <td>15533</td>\n",
       "    </tr>\n",
       "  </tbody>\n",
       "</table>\n",
       "</div>"
      ],
      "text/plain": [
       "                       nr_correct_baseline nr_incorrect_baseline\n",
       "nr_correct_optimized                162078                 13895\n",
       "nr_incorrect_optimized                8494                 15533"
      ]
     },
     "execution_count": 12,
     "metadata": {},
     "output_type": "execute_result"
    }
   ],
   "source": [
    "cont_xgb_df = create_contingency_table(true_pred, baseline_xgb_pred, optimized_xgb_pred)\n",
    "cont_xgb_df"
   ]
  },
  {
   "cell_type": "code",
   "execution_count": 13,
   "id": "e5ae141f",
   "metadata": {},
   "outputs": [
    {
     "name": "stdout",
     "output_type": "stream",
     "text": [
      "statistic=8494.00000, p-value=5.22717e-288\n",
      "Different proportions of errors (reject H0)\n"
     ]
    }
   ],
   "source": [
    "calculate_mcnemar_test(cont_xgb_df)"
   ]
  },
  {
   "cell_type": "markdown",
   "id": "c4362ee6",
   "metadata": {},
   "source": [
    "## XGBoost Autofeat McNemar test"
   ]
  },
  {
   "cell_type": "code",
   "execution_count": 14,
   "id": "4aa2c082",
   "metadata": {},
   "outputs": [],
   "source": [
    "autofeat_xgb_df = pd.read_csv(\"../kfolds/XGBoostAutoFeat__folds5__0.9021793206340705.csv\")\n",
    "autofeat_xgb_pred = autofeat_xgb_df['target'] >= 0.5"
   ]
  },
  {
   "cell_type": "code",
   "execution_count": 15,
   "id": "a739a8df",
   "metadata": {},
   "outputs": [
    {
     "data": {
      "text/html": [
       "<div>\n",
       "<style scoped>\n",
       "    .dataframe tbody tr th:only-of-type {\n",
       "        vertical-align: middle;\n",
       "    }\n",
       "\n",
       "    .dataframe tbody tr th {\n",
       "        vertical-align: top;\n",
       "    }\n",
       "\n",
       "    .dataframe thead th {\n",
       "        text-align: right;\n",
       "    }\n",
       "</style>\n",
       "<table border=\"1\" class=\"dataframe\">\n",
       "  <thead>\n",
       "    <tr style=\"text-align: right;\">\n",
       "      <th></th>\n",
       "      <th>nr_correct_baseline</th>\n",
       "      <th>nr_incorrect_baseline</th>\n",
       "    </tr>\n",
       "  </thead>\n",
       "  <tbody>\n",
       "    <tr>\n",
       "      <th>nr_correct_optimized</th>\n",
       "      <td>161917</td>\n",
       "      <td>14056</td>\n",
       "    </tr>\n",
       "    <tr>\n",
       "      <th>nr_incorrect_optimized</th>\n",
       "      <td>8390</td>\n",
       "      <td>15637</td>\n",
       "    </tr>\n",
       "  </tbody>\n",
       "</table>\n",
       "</div>"
      ],
      "text/plain": [
       "                       nr_correct_baseline nr_incorrect_baseline\n",
       "nr_correct_optimized                161917                 14056\n",
       "nr_incorrect_optimized                8390                 15637"
      ]
     },
     "execution_count": 15,
     "metadata": {},
     "output_type": "execute_result"
    }
   ],
   "source": [
    "cont_xgb_df = create_contingency_table(true_pred, baseline_xgb_pred, autofeat_xgb_pred)\n",
    "cont_xgb_df"
   ]
  },
  {
   "cell_type": "code",
   "execution_count": 16,
   "id": "cdbf437b",
   "metadata": {},
   "outputs": [
    {
     "name": "stdout",
     "output_type": "stream",
     "text": [
      "statistic=8390.00000, p-value=2.98019e-316\n",
      "Different proportions of errors (reject H0)\n"
     ]
    }
   ],
   "source": [
    "calculate_mcnemar_test(cont_xgb_df)"
   ]
  },
  {
   "cell_type": "code",
   "execution_count": null,
   "id": "a7e33009",
   "metadata": {},
   "outputs": [],
   "source": []
  }
 ],
 "metadata": {
  "kernelspec": {
   "display_name": "Python 3 (ipykernel)",
   "language": "python",
   "name": "python3"
  },
  "language_info": {
   "codemirror_mode": {
    "name": "ipython",
    "version": 3
   },
   "file_extension": ".py",
   "mimetype": "text/x-python",
   "name": "python",
   "nbconvert_exporter": "python",
   "pygments_lexer": "ipython3",
   "version": "3.8.12"
  }
 },
 "nbformat": 4,
 "nbformat_minor": 5
}
