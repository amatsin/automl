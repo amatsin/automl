{
 "cells": [
  {
   "cell_type": "code",
   "execution_count": 1,
   "id": "c3750b9e",
   "metadata": {},
   "outputs": [
    {
     "name": "stdout",
     "output_type": "stream",
     "text": [
      "/home/romet/projects/ut/automl/src\n"
     ]
    }
   ],
   "source": [
    "%cd src"
   ]
  },
  {
   "cell_type": "code",
   "execution_count": 6,
   "id": "7fb152ac",
   "metadata": {},
   "outputs": [
    {
     "name": "stdout",
     "output_type": "stream",
     "text": [
      "The autoreload extension is already loaded. To reload it, use:\n",
      "  %reload_ext autoreload\n"
     ]
    }
   ],
   "source": [
    "import pandas as pd\n",
    "from dataloader import load_data\n",
    "\n",
    "from mcnemar_test import create_contingency_table, calculate_mcnemar_test\n",
    "\n",
    "%load_ext autoreload\n",
    "%autoreload 2"
   ]
  },
  {
   "cell_type": "code",
   "execution_count": 7,
   "id": "3d5b7828",
   "metadata": {},
   "outputs": [
    {
     "name": "stdout",
     "output_type": "stream",
     "text": [
      "Reading training data...\n",
      "Train length:  200000\n",
      "Loading test...\n",
      "Removing synthetic data from test\n"
     ]
    },
    {
     "data": {
      "application/vnd.jupyter.widget-view+json": {
       "model_id": "3b425d11c0df47e7853a7bfac6ef52f7",
       "version_major": 2,
       "version_minor": 0
      },
      "text/plain": [
       "  0%|          | 0/200 [00:00<?, ?it/s]"
      ]
     },
     "metadata": {},
     "output_type": "display_data"
    },
    {
     "name": "stdout",
     "output_type": "stream",
     "text": [
      "real_samples_indexes 100000\n",
      "synthetic_samples_indexes 100000\n",
      "Frequency encoding...\n"
     ]
    },
    {
     "name": "stderr",
     "output_type": "stream",
     "text": [
      "/home/romet/projects/ut/automl/src/dataloader.py:69: PerformanceWarning: DataFrame is highly fragmented.  This is usually the result of calling `frame.insert` many times, which has poor performance.  Consider joining all columns at once using pd.concat(axis=1) instead.  To get a de-fragmented frame, use `newframe = frame.copy()`\n",
      "  traintest[col + '_freq'] = traintest[col].map(traintest.groupby(col).size())\n"
     ]
    },
    {
     "name": "stdout",
     "output_type": "stream",
     "text": [
      "Train and test shape: (200000, 402) (200000, 401)\n",
      "Test length:  200000\n",
      "Scaling data...\n",
      "(200000, 400)\n",
      "(200000, 400)\n"
     ]
    }
   ],
   "source": [
    "train, test = load_data()\n",
    "true_pred = train.target.values\n",
    "#true_pred = y >= 0.5"
   ]
  },
  {
   "cell_type": "markdown",
   "id": "11304d23",
   "metadata": {},
   "source": [
    "## LightGBM McNemar test"
   ]
  },
  {
   "cell_type": "code",
   "execution_count": 8,
   "id": "c570a53f",
   "metadata": {},
   "outputs": [],
   "source": [
    "baseline_lgbm_df = pd.read_csv(\"../kfolds/LightGBM__folds5__0.8949656737461088.csv\")\n",
    "optimized_lgbm_df = pd.read_csv(\"../kfolds/LightGBMOptimized__folds5__0.9067238024867795.csv\")\n",
    "\n",
    "baseline_lgbm_pred = baseline_lgbm_df['target'] >= 0.5\n",
    "optimized_lgbm_pred = optimized_lgbm_df['target'] >= 0.5"
   ]
  },
  {
   "cell_type": "code",
   "execution_count": 9,
   "id": "e1f1b09c",
   "metadata": {},
   "outputs": [
    {
     "data": {
      "text/html": [
       "<div>\n",
       "<style scoped>\n",
       "    .dataframe tbody tr th:only-of-type {\n",
       "        vertical-align: middle;\n",
       "    }\n",
       "\n",
       "    .dataframe tbody tr th {\n",
       "        vertical-align: top;\n",
       "    }\n",
       "\n",
       "    .dataframe thead th {\n",
       "        text-align: right;\n",
       "    }\n",
       "</style>\n",
       "<table border=\"1\" class=\"dataframe\">\n",
       "  <thead>\n",
       "    <tr style=\"text-align: right;\">\n",
       "      <th></th>\n",
       "      <th>nr_correct_baseline</th>\n",
       "      <th>nr_incorrect_baseline</th>\n",
       "    </tr>\n",
       "  </thead>\n",
       "  <tbody>\n",
       "    <tr>\n",
       "      <th>nr_correct_optimized</th>\n",
       "      <td>167248</td>\n",
       "      <td>4801</td>\n",
       "    </tr>\n",
       "    <tr>\n",
       "      <th>nr_incorrect_optimized</th>\n",
       "      <td>7164</td>\n",
       "      <td>20787</td>\n",
       "    </tr>\n",
       "  </tbody>\n",
       "</table>\n",
       "</div>"
      ],
      "text/plain": [
       "                       nr_correct_baseline nr_incorrect_baseline\n",
       "nr_correct_optimized                167248                  4801\n",
       "nr_incorrect_optimized                7164                 20787"
      ]
     },
     "execution_count": 9,
     "metadata": {},
     "output_type": "execute_result"
    }
   ],
   "source": [
    "cont_lgbm_df = create_contingency_table(true_pred, baseline_lgbm_pred, optimized_lgbm_pred)\n",
    "cont_lgbm_df"
   ]
  },
  {
   "cell_type": "code",
   "execution_count": 10,
   "id": "81da33a9",
   "metadata": {},
   "outputs": [
    {
     "name": "stdout",
     "output_type": "stream",
     "text": [
      "statistic=466.28032, p-value=0.00000000000000000000\n",
      "Different proportions of errors (reject H0)\n"
     ]
    }
   ],
   "source": [
    "calculate_mcnemar_test(cont_lgbm_df)"
   ]
  },
  {
   "cell_type": "markdown",
   "id": "5ba59f8d",
   "metadata": {},
   "source": [
    "## XGBoost McNemar test"
   ]
  },
  {
   "cell_type": "code",
   "execution_count": 11,
   "id": "6dc36841",
   "metadata": {},
   "outputs": [],
   "source": [
    "baseline_xgb_df = pd.read_csv(\"../kfolds/XGBoost__folds5__0.8644135937992727.csv\")\n",
    "optimized_xgb_df = pd.read_csv(\"../kfolds/XGBoostOptimized__folds5__0.9026087657521092.csv\")"
   ]
  },
  {
   "cell_type": "code",
   "execution_count": 12,
   "id": "366dfe53",
   "metadata": {},
   "outputs": [],
   "source": [
    "baseline_xgb_pred = baseline_xgb_df['target'] >= 0.5\n",
    "optimized_xgb_pred = optimized_xgb_df['target'] >= 0.5"
   ]
  },
  {
   "cell_type": "code",
   "execution_count": 13,
   "id": "b48592c9",
   "metadata": {},
   "outputs": [
    {
     "data": {
      "text/html": [
       "<div>\n",
       "<style scoped>\n",
       "    .dataframe tbody tr th:only-of-type {\n",
       "        vertical-align: middle;\n",
       "    }\n",
       "\n",
       "    .dataframe tbody tr th {\n",
       "        vertical-align: top;\n",
       "    }\n",
       "\n",
       "    .dataframe thead th {\n",
       "        text-align: right;\n",
       "    }\n",
       "</style>\n",
       "<table border=\"1\" class=\"dataframe\">\n",
       "  <thead>\n",
       "    <tr style=\"text-align: right;\">\n",
       "      <th></th>\n",
       "      <th>nr_correct_baseline</th>\n",
       "      <th>nr_incorrect_baseline</th>\n",
       "    </tr>\n",
       "  </thead>\n",
       "  <tbody>\n",
       "    <tr>\n",
       "      <th>nr_correct_optimized</th>\n",
       "      <td>164673</td>\n",
       "      <td>11300</td>\n",
       "    </tr>\n",
       "    <tr>\n",
       "      <th>nr_incorrect_optimized</th>\n",
       "      <td>8528</td>\n",
       "      <td>15499</td>\n",
       "    </tr>\n",
       "  </tbody>\n",
       "</table>\n",
       "</div>"
      ],
      "text/plain": [
       "                       nr_correct_baseline nr_incorrect_baseline\n",
       "nr_correct_optimized                164673                 11300\n",
       "nr_incorrect_optimized                8528                 15499"
      ]
     },
     "execution_count": 13,
     "metadata": {},
     "output_type": "execute_result"
    }
   ],
   "source": [
    "cont_xgb_df = create_contingency_table(true_pred, baseline_xgb_pred, optimized_xgb_pred)\n",
    "cont_xgb_df"
   ]
  },
  {
   "cell_type": "code",
   "execution_count": 14,
   "id": "e5ae141f",
   "metadata": {},
   "outputs": [
    {
     "name": "stdout",
     "output_type": "stream",
     "text": [
      "statistic=387.25242, p-value=0.00000000000000000000\n",
      "Different proportions of errors (reject H0)\n"
     ]
    }
   ],
   "source": [
    "calculate_mcnemar_test(cont_xgb_df)"
   ]
  },
  {
   "cell_type": "code",
   "execution_count": null,
   "id": "d6c89e47",
   "metadata": {},
   "outputs": [],
   "source": []
  }
 ],
 "metadata": {
  "kernelspec": {
   "display_name": "Python 3 (ipykernel)",
   "language": "python",
   "name": "python3"
  },
  "language_info": {
   "codemirror_mode": {
    "name": "ipython",
    "version": 3
   },
   "file_extension": ".py",
   "mimetype": "text/x-python",
   "name": "python",
   "nbconvert_exporter": "python",
   "pygments_lexer": "ipython3",
   "version": "3.8.12"
  }
 },
 "nbformat": 4,
 "nbformat_minor": 5
}
